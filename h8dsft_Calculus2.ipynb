{
  "nbformat": 4,
  "nbformat_minor": 0,
  "metadata": {
    "colab": {
      "name": "h8dsft_Calculus2.ipynb",
      "provenance": [],
      "collapsed_sections": []
    },
    "kernelspec": {
      "name": "python3",
      "display_name": "Python 3"
    },
    "language_info": {
      "name": "python"
    }
  },
  "cells": [
    {
      "cell_type": "markdown",
      "source": [
        "# **Integral**"
      ],
      "metadata": {
        "id": "8jvmOgHJAX7A"
      }
    },
    {
      "cell_type": "markdown",
      "source": [
        "### **Symbol**"
      ],
      "metadata": {
        "id": "lQaKpEMDAb7o"
      }
    },
    {
      "cell_type": "markdown",
      "source": [
        "#### Fungsi 1"
      ],
      "metadata": {
        "id": "BnGqyXAUA4hX"
      }
    },
    {
      "cell_type": "code",
      "execution_count": 1,
      "metadata": {
        "colab": {
          "base_uri": "https://localhost:8080/",
          "height": 38
        },
        "id": "HlwG0fOYAOic",
        "outputId": "bcbbecda-f6bf-4b4c-9283-13b5dd10d2e5"
      },
      "outputs": [
        {
          "output_type": "execute_result",
          "data": {
            "text/plain": [
              "3*x**2 - 6*x + 3"
            ],
            "text/latex": "$\\displaystyle 3 x^{2} - 6 x + 3$"
          },
          "metadata": {},
          "execution_count": 1
        }
      ],
      "source": [
        "import sympy as sy\n",
        "\n",
        "x = sy.Symbol('x')\n",
        "f = 3*x**2 - 6*x + 3\n",
        "f"
      ]
    },
    {
      "cell_type": "code",
      "source": [
        "sy.integrate(f)"
      ],
      "metadata": {
        "colab": {
          "base_uri": "https://localhost:8080/",
          "height": 38
        },
        "id": "SBSVKzkaBC0a",
        "outputId": "a815e730-ee45-4b1c-f967-d04d406bc372"
      },
      "execution_count": 2,
      "outputs": [
        {
          "output_type": "execute_result",
          "data": {
            "text/plain": [
              "x**3 - 3*x**2 + 3*x"
            ],
            "text/latex": "$\\displaystyle x^{3} - 3 x^{2} + 3 x$"
          },
          "metadata": {},
          "execution_count": 2
        }
      ]
    },
    {
      "cell_type": "code",
      "source": [
        "def integral_f(x):\n",
        "  return x**3 - 3*x**2 + 3*x\n",
        "\n",
        "#Integral tertentu dari f(x) dengan jarak 3-8\n",
        "integral_f(8) - integral_f(3)"
      ],
      "metadata": {
        "colab": {
          "base_uri": "https://localhost:8080/"
        },
        "id": "wQlUEyj8BGNG",
        "outputId": "177ab68e-6f53-444b-954e-d7708d273363"
      },
      "execution_count": 4,
      "outputs": [
        {
          "output_type": "execute_result",
          "data": {
            "text/plain": [
              "335"
            ]
          },
          "metadata": {},
          "execution_count": 4
        }
      ]
    },
    {
      "cell_type": "markdown",
      "source": [
        "#### Fungsi 2"
      ],
      "metadata": {
        "id": "FmrZryJ5BmYn"
      }
    },
    {
      "cell_type": "code",
      "source": [
        "g = 8*x**3 - x**2 + 5*x - 1\n",
        "g"
      ],
      "metadata": {
        "colab": {
          "base_uri": "https://localhost:8080/",
          "height": 38
        },
        "id": "o2xWdTkYBqLQ",
        "outputId": "277d7927-e528-4a9c-c595-76bdadd793b7"
      },
      "execution_count": 5,
      "outputs": [
        {
          "output_type": "execute_result",
          "data": {
            "text/plain": [
              "8*x**3 - x**2 + 5*x - 1"
            ],
            "text/latex": "$\\displaystyle 8 x^{3} - x^{2} + 5 x - 1$"
          },
          "metadata": {},
          "execution_count": 5
        }
      ]
    },
    {
      "cell_type": "code",
      "source": [
        "sy.integrate(g)"
      ],
      "metadata": {
        "colab": {
          "base_uri": "https://localhost:8080/",
          "height": 54
        },
        "id": "HeK9aIe9B3JX",
        "outputId": "069a310f-19b0-43ef-9659-e1d31ae267e0"
      },
      "execution_count": 6,
      "outputs": [
        {
          "output_type": "execute_result",
          "data": {
            "text/plain": [
              "2*x**4 - x**3/3 + 5*x**2/2 - x"
            ],
            "text/latex": "$\\displaystyle 2 x^{4} - \\frac{x^{3}}{3} + \\frac{5 x^{2}}{2} - x$"
          },
          "metadata": {},
          "execution_count": 6
        }
      ]
    },
    {
      "cell_type": "code",
      "source": [
        "def integral_g(x):\n",
        "  return 2*x**4 - (1/3)*x**3 + (5/2)*x**2 - x\n",
        "\n",
        "#Integral tertentu dari g(x) dengan jarak 3-8\n",
        "integral_g(8) - integral_g(3)"
      ],
      "metadata": {
        "colab": {
          "base_uri": "https://localhost:8080/"
        },
        "id": "aIUB6AFMB8hP",
        "outputId": "5c72f265-352d-480c-81bb-ad7700e69e08"
      },
      "execution_count": 7,
      "outputs": [
        {
          "output_type": "execute_result",
          "data": {
            "text/plain": [
              "8000.833333333333"
            ]
          },
          "metadata": {},
          "execution_count": 7
        }
      ]
    },
    {
      "cell_type": "markdown",
      "source": [
        "### **Numeric - Fungsi**"
      ],
      "metadata": {
        "id": "iqCVVWJNCYbP"
      }
    },
    {
      "cell_type": "markdown",
      "source": [
        "Fungsi 1"
      ],
      "metadata": {
        "id": "lkjfo6zXCevO"
      }
    },
    {
      "cell_type": "code",
      "source": [
        "from scipy import integrate\n",
        "\n",
        "def f(x):\n",
        "  return 3*x**2 - 6*x + 3\n",
        "  \n",
        "A = integrate.quad(f,3,8)\n",
        "print(A)"
      ],
      "metadata": {
        "colab": {
          "base_uri": "https://localhost:8080/"
        },
        "id": "Anrz-Ie3CfbB",
        "outputId": "606ccfbe-4ce2-46db-d0ac-75b33c75da92"
      },
      "execution_count": 9,
      "outputs": [
        {
          "output_type": "stream",
          "name": "stdout",
          "text": [
            "(335.0, 3.7192471324942744e-12)\n"
          ]
        }
      ]
    },
    {
      "cell_type": "markdown",
      "source": [
        "Fungsi 2"
      ],
      "metadata": {
        "id": "DeThbIGRC2H4"
      }
    },
    {
      "cell_type": "code",
      "source": [
        "def g(x):\n",
        "  return 8*x**3 - x**2 + 5*x - 1\n",
        "\n",
        "B = integrate.quad(g,3,8)\n",
        "print(B)"
      ],
      "metadata": {
        "colab": {
          "base_uri": "https://localhost:8080/"
        },
        "id": "3ZfIn8gFCzDf",
        "outputId": "8e6a18e4-b232-4353-a2c2-dedd85e54730"
      },
      "execution_count": 10,
      "outputs": [
        {
          "output_type": "stream",
          "name": "stdout",
          "text": [
            "(8000.833333333332, 8.882709382855106e-11)\n"
          ]
        }
      ]
    },
    {
      "cell_type": "markdown",
      "source": [
        "### **Numeric - Data/Array**"
      ],
      "metadata": {
        "id": "UWS-I0XqDMnW"
      }
    },
    {
      "cell_type": "markdown",
      "source": [
        "Fungsi 1"
      ],
      "metadata": {
        "id": "g6x-dDlqDSyu"
      }
    },
    {
      "cell_type": "code",
      "source": [
        "from scipy import integrate\n",
        "import numpy as np\n",
        "\n",
        "def f(x):\n",
        "  return 3*x**2 - 6*x + 3\n",
        "\n",
        "x = np.linspace(3,8)\n",
        "y = f(x)\n",
        "\n",
        "C = integrate.trapz(y,x)\n",
        "C"
      ],
      "metadata": {
        "colab": {
          "base_uri": "https://localhost:8080/"
        },
        "id": "NYpL79sEDOOI",
        "outputId": "078cf9a3-bc97-4eda-acb7-c9506fbb07f1"
      },
      "execution_count": 11,
      "outputs": [
        {
          "output_type": "execute_result",
          "data": {
            "text/plain": [
              "335.0260308204915"
            ]
          },
          "metadata": {},
          "execution_count": 11
        }
      ]
    },
    {
      "cell_type": "markdown",
      "source": [
        "Fungsi 2"
      ],
      "metadata": {
        "id": "tB9NIXQ6D0DW"
      }
    },
    {
      "cell_type": "code",
      "source": [
        "def g(x):\n",
        "  return 8*x**3 - x**2 + 5*x - 1\n",
        "\n",
        "x = np.linspace(3,8)\n",
        "y = g(x)\n",
        "\n",
        "D = integrate.trapz(y,x)\n",
        "D"
      ],
      "metadata": {
        "colab": {
          "base_uri": "https://localhost:8080/"
        },
        "id": "BRkQDqAfD1VE",
        "outputId": "a942656f-17f1-4e44-9781-7bd57f1cd47f"
      },
      "execution_count": 12,
      "outputs": [
        {
          "output_type": "execute_result",
          "data": {
            "text/plain": [
              "8001.970012494794"
            ]
          },
          "metadata": {},
          "execution_count": 12
        }
      ]
    }
  ]
}