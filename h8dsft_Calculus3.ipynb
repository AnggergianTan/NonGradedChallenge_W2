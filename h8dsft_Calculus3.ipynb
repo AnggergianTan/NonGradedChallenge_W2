{
  "nbformat": 4,
  "nbformat_minor": 0,
  "metadata": {
    "colab": {
      "name": "h8dsft_Calculus2.ipynb",
      "provenance": [],
      "collapsed_sections": []
    },
    "kernelspec": {
      "name": "python3",
      "display_name": "Python 3"
    },
    "language_info": {
      "name": "python"
    }
  },
  "cells": [
    {
      "cell_type": "markdown",
      "source": [
        "# **Gradient**\n"
      ],
      "metadata": {
        "id": "rvRlcrmi88CR"
      }
    },
    {
      "cell_type": "code",
      "source": [
        "import sympy as sy"
      ],
      "metadata": {
        "id": "O8t1AOWV9oqn"
      },
      "execution_count": 2,
      "outputs": []
    },
    {
      "cell_type": "code",
      "execution_count": 3,
      "metadata": {
        "colab": {
          "base_uri": "https://localhost:8080/",
          "height": 38
        },
        "id": "uqEKhf7T8ltX",
        "outputId": "79f41893-b944-46ad-fd9d-a3917752f706"
      },
      "outputs": [
        {
          "output_type": "execute_result",
          "data": {
            "text/plain": [
              "3*x + 4*y - 5"
            ],
            "text/latex": "$\\displaystyle 3 x + 4 y - 5$"
          },
          "metadata": {},
          "execution_count": 3
        }
      ],
      "source": [
        "x,y = sy.symbols('x y')\n",
        "f = 3*x + 4*y - 5\n",
        "f"
      ]
    },
    {
      "cell_type": "code",
      "source": [
        "from sympy.tensor.array import derive_by_array\n",
        "grad = derive_by_array(f, (x,y))\n",
        "grad"
      ],
      "metadata": {
        "colab": {
          "base_uri": "https://localhost:8080/",
          "height": 38
        },
        "id": "N9ayfwKP-J0n",
        "outputId": "0592eeaf-7906-497c-decc-4fbf3d62d526"
      },
      "execution_count": 6,
      "outputs": [
        {
          "output_type": "execute_result",
          "data": {
            "text/plain": [
              "[3, 4]"
            ],
            "text/latex": "$\\displaystyle \\left[\\begin{matrix}3 & 4\\end{matrix}\\right]$"
          },
          "metadata": {},
          "execution_count": 6
        }
      ]
    },
    {
      "cell_type": "markdown",
      "source": [
        "**Jacobian**"
      ],
      "metadata": {
        "id": "Y4GU2fsS-3df"
      }
    },
    {
      "cell_type": "code",
      "source": [
        "f_jacob = sy.Matrix([3*x + 4*y - 5])\n",
        "f_jacob"
      ],
      "metadata": {
        "colab": {
          "base_uri": "https://localhost:8080/",
          "height": 38
        },
        "id": "HjQay7qX-6so",
        "outputId": "ad08bc4d-4c81-4b9a-a5ae-6f90548addce"
      },
      "execution_count": 7,
      "outputs": [
        {
          "output_type": "execute_result",
          "data": {
            "text/plain": [
              "Matrix([[3*x + 4*y - 5]])"
            ],
            "text/latex": "$\\displaystyle \\left[\\begin{matrix}3 x + 4 y - 5\\end{matrix}\\right]$"
          },
          "metadata": {},
          "execution_count": 7
        }
      ]
    },
    {
      "cell_type": "code",
      "source": [
        "type(f_jacob)"
      ],
      "metadata": {
        "colab": {
          "base_uri": "https://localhost:8080/"
        },
        "id": "pkLX2TeO_Bf3",
        "outputId": "dc0e842f-643f-4a89-a041-dafe759f2d33"
      },
      "execution_count": 8,
      "outputs": [
        {
          "output_type": "execute_result",
          "data": {
            "text/plain": [
              "sympy.matrices.dense.MutableDenseMatrix"
            ]
          },
          "metadata": {},
          "execution_count": 8
        }
      ]
    },
    {
      "cell_type": "code",
      "source": [
        "par = sy.Matrix([x,y])\n",
        "f_jacob.jacobian(par)"
      ],
      "metadata": {
        "colab": {
          "base_uri": "https://localhost:8080/",
          "height": 38
        },
        "id": "6iOhLMO9_RKH",
        "outputId": "a331d681-0cb7-4731-93be-b72f7089254e"
      },
      "execution_count": 9,
      "outputs": [
        {
          "output_type": "execute_result",
          "data": {
            "text/plain": [
              "Matrix([[3, 4]])"
            ],
            "text/latex": "$\\displaystyle \\left[\\begin{matrix}3 & 4\\end{matrix}\\right]$"
          },
          "metadata": {},
          "execution_count": 9
        }
      ]
    },
    {
      "cell_type": "markdown",
      "source": [
        "**Hessian**"
      ],
      "metadata": {
        "id": "hu1LzXIm_zfG"
      }
    },
    {
      "cell_type": "code",
      "source": [
        "f"
      ],
      "metadata": {
        "colab": {
          "base_uri": "https://localhost:8080/",
          "height": 38
        },
        "id": "hvYODUae_y-W",
        "outputId": "0423d492-0da5-48a9-e641-37f3c9cd5695"
      },
      "execution_count": 13,
      "outputs": [
        {
          "output_type": "execute_result",
          "data": {
            "text/plain": [
              "3*x + 4*y - 5"
            ],
            "text/latex": "$\\displaystyle 3 x + 4 y - 5$"
          },
          "metadata": {},
          "execution_count": 13
        }
      ]
    },
    {
      "cell_type": "code",
      "source": [
        "sy.hessian(f,(x,y))"
      ],
      "metadata": {
        "colab": {
          "base_uri": "https://localhost:8080/",
          "height": 58
        },
        "id": "8v32JO6l_2_e",
        "outputId": "779ccaba-8aa4-4db5-9297-e33968f9d6d1"
      },
      "execution_count": 14,
      "outputs": [
        {
          "output_type": "execute_result",
          "data": {
            "text/plain": [
              "Matrix([\n",
              "[0, 0],\n",
              "[0, 0]])"
            ],
            "text/latex": "$\\displaystyle \\left[\\begin{matrix}0 & 0\\\\0 & 0\\end{matrix}\\right]$"
          },
          "metadata": {},
          "execution_count": 14
        }
      ]
    }
  ]
}